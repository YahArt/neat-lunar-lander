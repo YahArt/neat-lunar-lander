{
 "cells": [
  {
   "cell_type": "markdown",
   "id": "739bcf93",
   "metadata": {},
   "source": [
    "# Installation\n",
    "\n",
    "Um die **box2d-py** Bibliothek zu installieren, wird das Program swig benötigt, dieses kann http://www.swig.org/download.html installiert werden. Bitte stelle sicher dass du den **swig** Befehl in einem Terminal aufrufen kannst.\n",
    "\n",
    "Anschliessend üssen einige Pakete installiert werden:\n",
    "* `pip install wheel`\n",
    "* `pip install gym`\n",
    "* `pip install box2d-py`\n",
    "* `pip install numpy`\n",
    "* `pip install neat-python`"
   ]
  },
  {
   "cell_type": "code",
   "execution_count": null,
   "id": "7ace4272",
   "metadata": {},
   "outputs": [],
   "source": []
  }
 ],
 "metadata": {
  "kernelspec": {
   "display_name": "Python 3",
   "language": "python",
   "name": "python3"
  },
  "language_info": {
   "codemirror_mode": {
    "name": "ipython",
    "version": 3
   },
   "file_extension": ".py",
   "mimetype": "text/x-python",
   "name": "python",
   "nbconvert_exporter": "python",
   "pygments_lexer": "ipython3",
   "version": "3.8.8"
  }
 },
 "nbformat": 4,
 "nbformat_minor": 5
}
